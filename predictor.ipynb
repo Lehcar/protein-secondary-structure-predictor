{
 "cells": [
  {
   "cell_type": "markdown",
   "metadata": {
    "collapsed": true,
    "pycharm": {
     "name": "#%% md\n"
    }
   },
   "source": [
    "# CS 123A Project: Building a protein secondary structure predictor\n",
    "Rachel Stanik, Phuong Tran\n"
   ]
  },
  {
   "cell_type": "markdown",
   "metadata": {},
   "source": [
    "# Step 1: Importing libraries"
   ]
  },
  {
   "cell_type": "code",
   "execution_count": 2,
   "metadata": {},
   "outputs": [],
   "source": [
    "import numpy as np\n",
    "from sklearn.model_selection import train_test_split\n",
    "from sklearn.neural_network import MLPClassifier\n",
    "from sklearn.metrics import accuracy_score\n",
    "from sklearn.metrics import confusion_matrix\n",
    "import pandas as pd\n",
    "import seaborn as sns\n",
    "import matplotlib.pyplot as plt\n",
    "import re"
   ]
  },
  {
   "cell_type": "markdown",
   "metadata": {
    "pycharm": {
     "name": "#%% md\n"
    }
   },
   "source": [
    "# Step 2: Reading in the Data and Parsing the Data"
   ]
  },
  {
   "cell_type": "code",
   "execution_count": 3,
   "metadata": {
    "pycharm": {
     "name": "#%%\n"
    }
   },
   "outputs": [],
   "source": [
    "file = open(\"dataset.txt\", \"r\")"
   ]
  },
  {
   "cell_type": "markdown",
   "metadata": {
    "pycharm": {
     "name": "#%% md\n"
    }
   },
   "source": [
    "## Parse the data\n",
    "\n",
    "Data must be in following format: <br>\n",
    "'> Protein sequence name' <br>\n",
    "'\\n' <br>\n",
    "'< amino acid sequence>' <br>\n",
    "'\\n' <br>\n",
    "'< secondary structure>' <br>\n",
    "'\\n' <br>"
   ]
  },
  {
   "cell_type": "code",
   "execution_count": 96,
   "metadata": {
    "pycharm": {
     "name": "#%%\n"
    },
    "scrolled": true
   },
   "outputs": [],
   "source": [
    "def parse_data(file, sequences, structures):\n",
    "    lines = file.readlines()\n",
    "    file.close()\n",
    "    new_seq = False\n",
    "    new_struct = False\n",
    "    full_seq = \"\"\n",
    "    full_struct = \"\"\n",
    "    \n",
    "    #Parse the text\n",
    "    for line in lines:\n",
    "        #new protein sequence and structure\n",
    "        if \">\" in line:\n",
    "            new_seq = True\n",
    "            new_struct = False\n",
    "            full_seq = \"\"\n",
    "            full_struct = \"\"\n",
    "            #print(line) # for debugging\n",
    "            \n",
    "        #end of the amino acid sequence\n",
    "        elif new_seq and line == \"\\n\":\n",
    "            new_seq = False\n",
    "            new_struct = True\n",
    "            sequences.append(full_seq)\n",
    "            #print(full_seq) #for debugging\n",
    "            \n",
    "        elif new_seq:\n",
    "            line = line.strip()\n",
    "            full_seq += line\n",
    "            \n",
    "        #end of secondary structure\n",
    "        elif new_struct and line == \"\\n\":\n",
    "            structures.append(full_struct)\n",
    "            #print(full_struct) #for debugging\n",
    "            #print() #for debugging\n",
    "            new_seq = False\n",
    "            new_struct = False\n",
    "            \n",
    "        elif new_struct:\n",
    "            line = line.strip()\n",
    "            full_struct += line\n",
    "    \n",
    "sequences = []\n",
    "structures = []\n",
    "parse_data(file, sequences, structures)"
   ]
  },
  {
   "cell_type": "markdown",
   "metadata": {},
   "source": [
    "### Functions for debugging \n",
    "Ensure that the length of the amino acid sequence matches the length of the structure sequence"
   ]
  },
  {
   "cell_type": "code",
   "execution_count": 5,
   "metadata": {},
   "outputs": [
    {
     "name": "stdout",
     "output_type": "stream",
     "text": [
      "Read in 22 amino acid sequences.\n",
      "Read in 22 secondary structure sequences.\n"
     ]
    }
   ],
   "source": [
    "# For Debugging\n",
    "def validate_lengths(seq, struct):\n",
    "    for i in range(0, len(seq)):\n",
    "#         print(\"\\nNEW SEQUENCE\")\n",
    "#         print(seq[i])\n",
    "#         print(\"Length of sequence {}: {}, Length of the structure: {}\".format(i, len(seq[i]), len(struct[i])))\n",
    "#         print(len(seq[i]) == len(struct[i]))\n",
    "        if len(seq[i]) != len(struct[i]):\n",
    "            print(\"ERROR\")\n",
    "            print(seq[i])\n",
    "            print(\"Length of sequence {}: {}, Length of the structure: {}\".format(i, len(seq[i]), len(struct[i])))\n",
    "            break\n",
    "        \n",
    "print(\"Read in {} amino acid sequences.\".format(len(sequences)))\n",
    "print(\"Read in {} secondary structure sequences.\".format(len(structures)))\n",
    "\n",
    "validate_lengths(sequences, structures)"
   ]
  },
  {
   "cell_type": "markdown",
   "metadata": {},
   "source": [
    "# Step 3: Data Preprocessing"
   ]
  },
  {
   "cell_type": "markdown",
   "metadata": {},
   "source": [
    "## Process the amino acid sequence\n",
    "### Perform one-hot encoding\n",
    "Referenced: https://dmnfarrell.github.io/bioinformatics/mhclearning for encoding"
   ]
  },
  {
   "cell_type": "code",
   "execution_count": 6,
   "metadata": {},
   "outputs": [],
   "source": [
    "codes = ['A', 'C', 'D', 'E', 'F', 'G', 'H', 'I', 'K', 'L',\n",
    "         'M', 'N', 'P', 'Q', 'R', 'S', 'T', 'V', 'W', 'Y']\n",
    "\n",
    "def one_hot_encode(seq):\n",
    "    #amino acids not in the sequence\n",
    "    missing_amino_acids = list(set(codes) - set(seq))\n",
    "    seq_df = pd.DataFrame(list(seq)) \n",
    "    #Create a df with only 0's and the 'missing' amino acids\n",
    "    index = pd.DataFrame(np.zeros((len(seq),len(missing_amino_acids)),dtype=int),columns=missing_amino_acids) \n",
    "    df = seq_df[0].str.get_dummies(sep=',')\n",
    "    #join the df with the zero df on their indices (position of the amino acid)\n",
    "    df = df.join(index)\n",
    "    df = df.sort_index(axis=1)\n",
    "    return df\n",
    "\n",
    "#Create a list of dataframes\n",
    "encoded_sequences = []\n",
    "for sequence in sequences:\n",
    "    encoded_sequences.append(one_hot_encode(sequence))\n"
   ]
  },
  {
   "cell_type": "markdown",
   "metadata": {},
   "source": [
    "### Example of the result after encoding\n",
    "An example dataframe for the first sequence"
   ]
  },
  {
   "cell_type": "code",
   "execution_count": 7,
   "metadata": {},
   "outputs": [
    {
     "name": "stdout",
     "output_type": "stream",
     "text": [
      "Encoded sequence for: \n",
      "MSEKKQPVDLGLLEEDDEFEEFPAEDWAGLDEDEDAHVWEDNWDDDNVEDDFSNQLRAELEKHGYKMETS\n",
      "\n",
      "The index represents the sequence position.\n",
      "A value of \"1\" indicates the amino acid in that position.\n"
     ]
    },
    {
     "data": {
      "text/html": [
       "<div>\n",
       "<style scoped>\n",
       "    .dataframe tbody tr th:only-of-type {\n",
       "        vertical-align: middle;\n",
       "    }\n",
       "\n",
       "    .dataframe tbody tr th {\n",
       "        vertical-align: top;\n",
       "    }\n",
       "\n",
       "    .dataframe thead th {\n",
       "        text-align: right;\n",
       "    }\n",
       "</style>\n",
       "<table border=\"1\" class=\"dataframe\">\n",
       "  <thead>\n",
       "    <tr style=\"text-align: right;\">\n",
       "      <th></th>\n",
       "      <th>A</th>\n",
       "      <th>C</th>\n",
       "      <th>D</th>\n",
       "      <th>E</th>\n",
       "      <th>F</th>\n",
       "      <th>G</th>\n",
       "      <th>H</th>\n",
       "      <th>I</th>\n",
       "      <th>K</th>\n",
       "      <th>L</th>\n",
       "      <th>M</th>\n",
       "      <th>N</th>\n",
       "      <th>P</th>\n",
       "      <th>Q</th>\n",
       "      <th>R</th>\n",
       "      <th>S</th>\n",
       "      <th>T</th>\n",
       "      <th>V</th>\n",
       "      <th>W</th>\n",
       "      <th>Y</th>\n",
       "    </tr>\n",
       "  </thead>\n",
       "  <tbody>\n",
       "    <tr>\n",
       "      <td>0</td>\n",
       "      <td>0</td>\n",
       "      <td>0</td>\n",
       "      <td>0</td>\n",
       "      <td>0</td>\n",
       "      <td>0</td>\n",
       "      <td>0</td>\n",
       "      <td>0</td>\n",
       "      <td>0</td>\n",
       "      <td>0</td>\n",
       "      <td>0</td>\n",
       "      <td>1</td>\n",
       "      <td>0</td>\n",
       "      <td>0</td>\n",
       "      <td>0</td>\n",
       "      <td>0</td>\n",
       "      <td>0</td>\n",
       "      <td>0</td>\n",
       "      <td>0</td>\n",
       "      <td>0</td>\n",
       "      <td>0</td>\n",
       "    </tr>\n",
       "    <tr>\n",
       "      <td>1</td>\n",
       "      <td>0</td>\n",
       "      <td>0</td>\n",
       "      <td>0</td>\n",
       "      <td>0</td>\n",
       "      <td>0</td>\n",
       "      <td>0</td>\n",
       "      <td>0</td>\n",
       "      <td>0</td>\n",
       "      <td>0</td>\n",
       "      <td>0</td>\n",
       "      <td>0</td>\n",
       "      <td>0</td>\n",
       "      <td>0</td>\n",
       "      <td>0</td>\n",
       "      <td>0</td>\n",
       "      <td>1</td>\n",
       "      <td>0</td>\n",
       "      <td>0</td>\n",
       "      <td>0</td>\n",
       "      <td>0</td>\n",
       "    </tr>\n",
       "    <tr>\n",
       "      <td>2</td>\n",
       "      <td>0</td>\n",
       "      <td>0</td>\n",
       "      <td>0</td>\n",
       "      <td>1</td>\n",
       "      <td>0</td>\n",
       "      <td>0</td>\n",
       "      <td>0</td>\n",
       "      <td>0</td>\n",
       "      <td>0</td>\n",
       "      <td>0</td>\n",
       "      <td>0</td>\n",
       "      <td>0</td>\n",
       "      <td>0</td>\n",
       "      <td>0</td>\n",
       "      <td>0</td>\n",
       "      <td>0</td>\n",
       "      <td>0</td>\n",
       "      <td>0</td>\n",
       "      <td>0</td>\n",
       "      <td>0</td>\n",
       "    </tr>\n",
       "    <tr>\n",
       "      <td>3</td>\n",
       "      <td>0</td>\n",
       "      <td>0</td>\n",
       "      <td>0</td>\n",
       "      <td>0</td>\n",
       "      <td>0</td>\n",
       "      <td>0</td>\n",
       "      <td>0</td>\n",
       "      <td>0</td>\n",
       "      <td>1</td>\n",
       "      <td>0</td>\n",
       "      <td>0</td>\n",
       "      <td>0</td>\n",
       "      <td>0</td>\n",
       "      <td>0</td>\n",
       "      <td>0</td>\n",
       "      <td>0</td>\n",
       "      <td>0</td>\n",
       "      <td>0</td>\n",
       "      <td>0</td>\n",
       "      <td>0</td>\n",
       "    </tr>\n",
       "    <tr>\n",
       "      <td>4</td>\n",
       "      <td>0</td>\n",
       "      <td>0</td>\n",
       "      <td>0</td>\n",
       "      <td>0</td>\n",
       "      <td>0</td>\n",
       "      <td>0</td>\n",
       "      <td>0</td>\n",
       "      <td>0</td>\n",
       "      <td>1</td>\n",
       "      <td>0</td>\n",
       "      <td>0</td>\n",
       "      <td>0</td>\n",
       "      <td>0</td>\n",
       "      <td>0</td>\n",
       "      <td>0</td>\n",
       "      <td>0</td>\n",
       "      <td>0</td>\n",
       "      <td>0</td>\n",
       "      <td>0</td>\n",
       "      <td>0</td>\n",
       "    </tr>\n",
       "    <tr>\n",
       "      <td>...</td>\n",
       "      <td>...</td>\n",
       "      <td>...</td>\n",
       "      <td>...</td>\n",
       "      <td>...</td>\n",
       "      <td>...</td>\n",
       "      <td>...</td>\n",
       "      <td>...</td>\n",
       "      <td>...</td>\n",
       "      <td>...</td>\n",
       "      <td>...</td>\n",
       "      <td>...</td>\n",
       "      <td>...</td>\n",
       "      <td>...</td>\n",
       "      <td>...</td>\n",
       "      <td>...</td>\n",
       "      <td>...</td>\n",
       "      <td>...</td>\n",
       "      <td>...</td>\n",
       "      <td>...</td>\n",
       "      <td>...</td>\n",
       "    </tr>\n",
       "    <tr>\n",
       "      <td>65</td>\n",
       "      <td>0</td>\n",
       "      <td>0</td>\n",
       "      <td>0</td>\n",
       "      <td>0</td>\n",
       "      <td>0</td>\n",
       "      <td>0</td>\n",
       "      <td>0</td>\n",
       "      <td>0</td>\n",
       "      <td>1</td>\n",
       "      <td>0</td>\n",
       "      <td>0</td>\n",
       "      <td>0</td>\n",
       "      <td>0</td>\n",
       "      <td>0</td>\n",
       "      <td>0</td>\n",
       "      <td>0</td>\n",
       "      <td>0</td>\n",
       "      <td>0</td>\n",
       "      <td>0</td>\n",
       "      <td>0</td>\n",
       "    </tr>\n",
       "    <tr>\n",
       "      <td>66</td>\n",
       "      <td>0</td>\n",
       "      <td>0</td>\n",
       "      <td>0</td>\n",
       "      <td>0</td>\n",
       "      <td>0</td>\n",
       "      <td>0</td>\n",
       "      <td>0</td>\n",
       "      <td>0</td>\n",
       "      <td>0</td>\n",
       "      <td>0</td>\n",
       "      <td>1</td>\n",
       "      <td>0</td>\n",
       "      <td>0</td>\n",
       "      <td>0</td>\n",
       "      <td>0</td>\n",
       "      <td>0</td>\n",
       "      <td>0</td>\n",
       "      <td>0</td>\n",
       "      <td>0</td>\n",
       "      <td>0</td>\n",
       "    </tr>\n",
       "    <tr>\n",
       "      <td>67</td>\n",
       "      <td>0</td>\n",
       "      <td>0</td>\n",
       "      <td>0</td>\n",
       "      <td>1</td>\n",
       "      <td>0</td>\n",
       "      <td>0</td>\n",
       "      <td>0</td>\n",
       "      <td>0</td>\n",
       "      <td>0</td>\n",
       "      <td>0</td>\n",
       "      <td>0</td>\n",
       "      <td>0</td>\n",
       "      <td>0</td>\n",
       "      <td>0</td>\n",
       "      <td>0</td>\n",
       "      <td>0</td>\n",
       "      <td>0</td>\n",
       "      <td>0</td>\n",
       "      <td>0</td>\n",
       "      <td>0</td>\n",
       "    </tr>\n",
       "    <tr>\n",
       "      <td>68</td>\n",
       "      <td>0</td>\n",
       "      <td>0</td>\n",
       "      <td>0</td>\n",
       "      <td>0</td>\n",
       "      <td>0</td>\n",
       "      <td>0</td>\n",
       "      <td>0</td>\n",
       "      <td>0</td>\n",
       "      <td>0</td>\n",
       "      <td>0</td>\n",
       "      <td>0</td>\n",
       "      <td>0</td>\n",
       "      <td>0</td>\n",
       "      <td>0</td>\n",
       "      <td>0</td>\n",
       "      <td>0</td>\n",
       "      <td>1</td>\n",
       "      <td>0</td>\n",
       "      <td>0</td>\n",
       "      <td>0</td>\n",
       "    </tr>\n",
       "    <tr>\n",
       "      <td>69</td>\n",
       "      <td>0</td>\n",
       "      <td>0</td>\n",
       "      <td>0</td>\n",
       "      <td>0</td>\n",
       "      <td>0</td>\n",
       "      <td>0</td>\n",
       "      <td>0</td>\n",
       "      <td>0</td>\n",
       "      <td>0</td>\n",
       "      <td>0</td>\n",
       "      <td>0</td>\n",
       "      <td>0</td>\n",
       "      <td>0</td>\n",
       "      <td>0</td>\n",
       "      <td>0</td>\n",
       "      <td>1</td>\n",
       "      <td>0</td>\n",
       "      <td>0</td>\n",
       "      <td>0</td>\n",
       "      <td>0</td>\n",
       "    </tr>\n",
       "  </tbody>\n",
       "</table>\n",
       "<p>70 rows × 20 columns</p>\n",
       "</div>"
      ],
      "text/plain": [
       "    A  C  D  E  F  G  H  I  K  L  M  N  P  Q  R  S  T  V  W  Y\n",
       "0   0  0  0  0  0  0  0  0  0  0  1  0  0  0  0  0  0  0  0  0\n",
       "1   0  0  0  0  0  0  0  0  0  0  0  0  0  0  0  1  0  0  0  0\n",
       "2   0  0  0  1  0  0  0  0  0  0  0  0  0  0  0  0  0  0  0  0\n",
       "3   0  0  0  0  0  0  0  0  1  0  0  0  0  0  0  0  0  0  0  0\n",
       "4   0  0  0  0  0  0  0  0  1  0  0  0  0  0  0  0  0  0  0  0\n",
       ".. .. .. .. .. .. .. .. .. .. .. .. .. .. .. .. .. .. .. .. ..\n",
       "65  0  0  0  0  0  0  0  0  1  0  0  0  0  0  0  0  0  0  0  0\n",
       "66  0  0  0  0  0  0  0  0  0  0  1  0  0  0  0  0  0  0  0  0\n",
       "67  0  0  0  1  0  0  0  0  0  0  0  0  0  0  0  0  0  0  0  0\n",
       "68  0  0  0  0  0  0  0  0  0  0  0  0  0  0  0  0  1  0  0  0\n",
       "69  0  0  0  0  0  0  0  0  0  0  0  0  0  0  0  1  0  0  0  0\n",
       "\n",
       "[70 rows x 20 columns]"
      ]
     },
     "execution_count": 7,
     "metadata": {},
     "output_type": "execute_result"
    }
   ],
   "source": [
    "print('Encoded sequence for: \\n{}\\n'.format(sequences[0]))\n",
    "print('''The index represents the sequence position.\n",
    "A value of \"1\" indicates the amino acid in that position.''')\n",
    "encoded_sequences[0]"
   ]
  },
  {
   "cell_type": "markdown",
   "metadata": {},
   "source": [
    "### Combine all encoded amino acid sequences into one Dataframe"
   ]
  },
  {
   "cell_type": "code",
   "execution_count": 8,
   "metadata": {},
   "outputs": [
    {
     "data": {
      "text/html": [
       "<div>\n",
       "<style scoped>\n",
       "    .dataframe tbody tr th:only-of-type {\n",
       "        vertical-align: middle;\n",
       "    }\n",
       "\n",
       "    .dataframe tbody tr th {\n",
       "        vertical-align: top;\n",
       "    }\n",
       "\n",
       "    .dataframe thead th {\n",
       "        text-align: right;\n",
       "    }\n",
       "</style>\n",
       "<table border=\"1\" class=\"dataframe\">\n",
       "  <thead>\n",
       "    <tr style=\"text-align: right;\">\n",
       "      <th></th>\n",
       "      <th>A</th>\n",
       "      <th>C</th>\n",
       "      <th>D</th>\n",
       "      <th>E</th>\n",
       "      <th>F</th>\n",
       "      <th>G</th>\n",
       "      <th>H</th>\n",
       "      <th>I</th>\n",
       "      <th>K</th>\n",
       "      <th>L</th>\n",
       "      <th>M</th>\n",
       "      <th>N</th>\n",
       "      <th>P</th>\n",
       "      <th>Q</th>\n",
       "      <th>R</th>\n",
       "      <th>S</th>\n",
       "      <th>T</th>\n",
       "      <th>V</th>\n",
       "      <th>W</th>\n",
       "      <th>Y</th>\n",
       "    </tr>\n",
       "  </thead>\n",
       "  <tbody>\n",
       "    <tr>\n",
       "      <td>0</td>\n",
       "      <td>0</td>\n",
       "      <td>0</td>\n",
       "      <td>0</td>\n",
       "      <td>0</td>\n",
       "      <td>0</td>\n",
       "      <td>0</td>\n",
       "      <td>0</td>\n",
       "      <td>0</td>\n",
       "      <td>0</td>\n",
       "      <td>0</td>\n",
       "      <td>1</td>\n",
       "      <td>0</td>\n",
       "      <td>0</td>\n",
       "      <td>0</td>\n",
       "      <td>0</td>\n",
       "      <td>0</td>\n",
       "      <td>0</td>\n",
       "      <td>0</td>\n",
       "      <td>0</td>\n",
       "      <td>0</td>\n",
       "    </tr>\n",
       "    <tr>\n",
       "      <td>1</td>\n",
       "      <td>0</td>\n",
       "      <td>0</td>\n",
       "      <td>0</td>\n",
       "      <td>0</td>\n",
       "      <td>0</td>\n",
       "      <td>0</td>\n",
       "      <td>0</td>\n",
       "      <td>0</td>\n",
       "      <td>0</td>\n",
       "      <td>0</td>\n",
       "      <td>0</td>\n",
       "      <td>0</td>\n",
       "      <td>0</td>\n",
       "      <td>0</td>\n",
       "      <td>0</td>\n",
       "      <td>1</td>\n",
       "      <td>0</td>\n",
       "      <td>0</td>\n",
       "      <td>0</td>\n",
       "      <td>0</td>\n",
       "    </tr>\n",
       "    <tr>\n",
       "      <td>2</td>\n",
       "      <td>0</td>\n",
       "      <td>0</td>\n",
       "      <td>0</td>\n",
       "      <td>1</td>\n",
       "      <td>0</td>\n",
       "      <td>0</td>\n",
       "      <td>0</td>\n",
       "      <td>0</td>\n",
       "      <td>0</td>\n",
       "      <td>0</td>\n",
       "      <td>0</td>\n",
       "      <td>0</td>\n",
       "      <td>0</td>\n",
       "      <td>0</td>\n",
       "      <td>0</td>\n",
       "      <td>0</td>\n",
       "      <td>0</td>\n",
       "      <td>0</td>\n",
       "      <td>0</td>\n",
       "      <td>0</td>\n",
       "    </tr>\n",
       "    <tr>\n",
       "      <td>3</td>\n",
       "      <td>0</td>\n",
       "      <td>0</td>\n",
       "      <td>0</td>\n",
       "      <td>0</td>\n",
       "      <td>0</td>\n",
       "      <td>0</td>\n",
       "      <td>0</td>\n",
       "      <td>0</td>\n",
       "      <td>1</td>\n",
       "      <td>0</td>\n",
       "      <td>0</td>\n",
       "      <td>0</td>\n",
       "      <td>0</td>\n",
       "      <td>0</td>\n",
       "      <td>0</td>\n",
       "      <td>0</td>\n",
       "      <td>0</td>\n",
       "      <td>0</td>\n",
       "      <td>0</td>\n",
       "      <td>0</td>\n",
       "    </tr>\n",
       "    <tr>\n",
       "      <td>4</td>\n",
       "      <td>0</td>\n",
       "      <td>0</td>\n",
       "      <td>0</td>\n",
       "      <td>0</td>\n",
       "      <td>0</td>\n",
       "      <td>0</td>\n",
       "      <td>0</td>\n",
       "      <td>0</td>\n",
       "      <td>1</td>\n",
       "      <td>0</td>\n",
       "      <td>0</td>\n",
       "      <td>0</td>\n",
       "      <td>0</td>\n",
       "      <td>0</td>\n",
       "      <td>0</td>\n",
       "      <td>0</td>\n",
       "      <td>0</td>\n",
       "      <td>0</td>\n",
       "      <td>0</td>\n",
       "      <td>0</td>\n",
       "    </tr>\n",
       "    <tr>\n",
       "      <td>...</td>\n",
       "      <td>...</td>\n",
       "      <td>...</td>\n",
       "      <td>...</td>\n",
       "      <td>...</td>\n",
       "      <td>...</td>\n",
       "      <td>...</td>\n",
       "      <td>...</td>\n",
       "      <td>...</td>\n",
       "      <td>...</td>\n",
       "      <td>...</td>\n",
       "      <td>...</td>\n",
       "      <td>...</td>\n",
       "      <td>...</td>\n",
       "      <td>...</td>\n",
       "      <td>...</td>\n",
       "      <td>...</td>\n",
       "      <td>...</td>\n",
       "      <td>...</td>\n",
       "      <td>...</td>\n",
       "      <td>...</td>\n",
       "    </tr>\n",
       "    <tr>\n",
       "      <td>632</td>\n",
       "      <td>0</td>\n",
       "      <td>0</td>\n",
       "      <td>0</td>\n",
       "      <td>0</td>\n",
       "      <td>0</td>\n",
       "      <td>0</td>\n",
       "      <td>0</td>\n",
       "      <td>0</td>\n",
       "      <td>0</td>\n",
       "      <td>1</td>\n",
       "      <td>0</td>\n",
       "      <td>0</td>\n",
       "      <td>0</td>\n",
       "      <td>0</td>\n",
       "      <td>0</td>\n",
       "      <td>0</td>\n",
       "      <td>0</td>\n",
       "      <td>0</td>\n",
       "      <td>0</td>\n",
       "      <td>0</td>\n",
       "    </tr>\n",
       "    <tr>\n",
       "      <td>633</td>\n",
       "      <td>0</td>\n",
       "      <td>0</td>\n",
       "      <td>0</td>\n",
       "      <td>0</td>\n",
       "      <td>0</td>\n",
       "      <td>1</td>\n",
       "      <td>0</td>\n",
       "      <td>0</td>\n",
       "      <td>0</td>\n",
       "      <td>0</td>\n",
       "      <td>0</td>\n",
       "      <td>0</td>\n",
       "      <td>0</td>\n",
       "      <td>0</td>\n",
       "      <td>0</td>\n",
       "      <td>0</td>\n",
       "      <td>0</td>\n",
       "      <td>0</td>\n",
       "      <td>0</td>\n",
       "      <td>0</td>\n",
       "    </tr>\n",
       "    <tr>\n",
       "      <td>634</td>\n",
       "      <td>0</td>\n",
       "      <td>0</td>\n",
       "      <td>0</td>\n",
       "      <td>0</td>\n",
       "      <td>0</td>\n",
       "      <td>0</td>\n",
       "      <td>0</td>\n",
       "      <td>0</td>\n",
       "      <td>0</td>\n",
       "      <td>0</td>\n",
       "      <td>0</td>\n",
       "      <td>0</td>\n",
       "      <td>0</td>\n",
       "      <td>0</td>\n",
       "      <td>0</td>\n",
       "      <td>0</td>\n",
       "      <td>0</td>\n",
       "      <td>1</td>\n",
       "      <td>0</td>\n",
       "      <td>0</td>\n",
       "    </tr>\n",
       "    <tr>\n",
       "      <td>635</td>\n",
       "      <td>1</td>\n",
       "      <td>0</td>\n",
       "      <td>0</td>\n",
       "      <td>0</td>\n",
       "      <td>0</td>\n",
       "      <td>0</td>\n",
       "      <td>0</td>\n",
       "      <td>0</td>\n",
       "      <td>0</td>\n",
       "      <td>0</td>\n",
       "      <td>0</td>\n",
       "      <td>0</td>\n",
       "      <td>0</td>\n",
       "      <td>0</td>\n",
       "      <td>0</td>\n",
       "      <td>0</td>\n",
       "      <td>0</td>\n",
       "      <td>0</td>\n",
       "      <td>0</td>\n",
       "      <td>0</td>\n",
       "    </tr>\n",
       "    <tr>\n",
       "      <td>636</td>\n",
       "      <td>0</td>\n",
       "      <td>0</td>\n",
       "      <td>0</td>\n",
       "      <td>0</td>\n",
       "      <td>0</td>\n",
       "      <td>0</td>\n",
       "      <td>0</td>\n",
       "      <td>0</td>\n",
       "      <td>1</td>\n",
       "      <td>0</td>\n",
       "      <td>0</td>\n",
       "      <td>0</td>\n",
       "      <td>0</td>\n",
       "      <td>0</td>\n",
       "      <td>0</td>\n",
       "      <td>0</td>\n",
       "      <td>0</td>\n",
       "      <td>0</td>\n",
       "      <td>0</td>\n",
       "      <td>0</td>\n",
       "    </tr>\n",
       "  </tbody>\n",
       "</table>\n",
       "<p>6883 rows × 20 columns</p>\n",
       "</div>"
      ],
      "text/plain": [
       "     A  C  D  E  F  G  H  I  K  L  M  N  P  Q  R  S  T  V  W  Y\n",
       "0    0  0  0  0  0  0  0  0  0  0  1  0  0  0  0  0  0  0  0  0\n",
       "1    0  0  0  0  0  0  0  0  0  0  0  0  0  0  0  1  0  0  0  0\n",
       "2    0  0  0  1  0  0  0  0  0  0  0  0  0  0  0  0  0  0  0  0\n",
       "3    0  0  0  0  0  0  0  0  1  0  0  0  0  0  0  0  0  0  0  0\n",
       "4    0  0  0  0  0  0  0  0  1  0  0  0  0  0  0  0  0  0  0  0\n",
       "..  .. .. .. .. .. .. .. .. .. .. .. .. .. .. .. .. .. .. .. ..\n",
       "632  0  0  0  0  0  0  0  0  0  1  0  0  0  0  0  0  0  0  0  0\n",
       "633  0  0  0  0  0  1  0  0  0  0  0  0  0  0  0  0  0  0  0  0\n",
       "634  0  0  0  0  0  0  0  0  0  0  0  0  0  0  0  0  0  1  0  0\n",
       "635  1  0  0  0  0  0  0  0  0  0  0  0  0  0  0  0  0  0  0  0\n",
       "636  0  0  0  0  0  0  0  0  1  0  0  0  0  0  0  0  0  0  0  0\n",
       "\n",
       "[6883 rows x 20 columns]"
      ]
     },
     "execution_count": 8,
     "metadata": {},
     "output_type": "execute_result"
    }
   ],
   "source": [
    "seq_df = pd.DataFrame(columns=codes)\n",
    "for seq in encoded_sequences:\n",
    "    seq_df = pd.concat([seq_df, seq])\n",
    "seq_df"
   ]
  },
  {
   "cell_type": "markdown",
   "metadata": {},
   "source": [
    "## Process the target variable (secondary structure)\n",
    "### Convert from Category (-,E,H) to Numerical Values"
   ]
  },
  {
   "cell_type": "code",
   "execution_count": 9,
   "metadata": {
    "scrolled": false
   },
   "outputs": [
    {
     "name": "stdout",
     "output_type": "stream",
     "text": [
      "{0: '-', 1: 'E', 2: 'H'}\n"
     ]
    },
    {
     "data": {
      "text/html": [
       "<div>\n",
       "<style scoped>\n",
       "    .dataframe tbody tr th:only-of-type {\n",
       "        vertical-align: middle;\n",
       "    }\n",
       "\n",
       "    .dataframe tbody tr th {\n",
       "        vertical-align: top;\n",
       "    }\n",
       "\n",
       "    .dataframe thead th {\n",
       "        text-align: right;\n",
       "    }\n",
       "</style>\n",
       "<table border=\"1\" class=\"dataframe\">\n",
       "  <thead>\n",
       "    <tr style=\"text-align: right;\">\n",
       "      <th></th>\n",
       "      <th>struct</th>\n",
       "    </tr>\n",
       "  </thead>\n",
       "  <tbody>\n",
       "    <tr>\n",
       "      <td>0</td>\n",
       "      <td>0</td>\n",
       "    </tr>\n",
       "    <tr>\n",
       "      <td>1</td>\n",
       "      <td>0</td>\n",
       "    </tr>\n",
       "    <tr>\n",
       "      <td>2</td>\n",
       "      <td>0</td>\n",
       "    </tr>\n",
       "    <tr>\n",
       "      <td>3</td>\n",
       "      <td>0</td>\n",
       "    </tr>\n",
       "    <tr>\n",
       "      <td>4</td>\n",
       "      <td>0</td>\n",
       "    </tr>\n",
       "    <tr>\n",
       "      <td>...</td>\n",
       "      <td>...</td>\n",
       "    </tr>\n",
       "    <tr>\n",
       "      <td>632</td>\n",
       "      <td>2</td>\n",
       "    </tr>\n",
       "    <tr>\n",
       "      <td>633</td>\n",
       "      <td>0</td>\n",
       "    </tr>\n",
       "    <tr>\n",
       "      <td>634</td>\n",
       "      <td>0</td>\n",
       "    </tr>\n",
       "    <tr>\n",
       "      <td>635</td>\n",
       "      <td>0</td>\n",
       "    </tr>\n",
       "    <tr>\n",
       "      <td>636</td>\n",
       "      <td>0</td>\n",
       "    </tr>\n",
       "  </tbody>\n",
       "</table>\n",
       "<p>6883 rows × 1 columns</p>\n",
       "</div>"
      ],
      "text/plain": [
       "     struct\n",
       "0         0\n",
       "1         0\n",
       "2         0\n",
       "3         0\n",
       "4         0\n",
       "..      ...\n",
       "632       2\n",
       "633       0\n",
       "634       0\n",
       "635       0\n",
       "636       0\n",
       "\n",
       "[6883 rows x 1 columns]"
      ]
     },
     "execution_count": 9,
     "metadata": {},
     "output_type": "execute_result"
    }
   ],
   "source": [
    "struct_df = pd.DataFrame(columns=['struct'])\n",
    "for struct in structures:\n",
    "    struct_df = pd.concat([struct_df, pd.DataFrame(list(struct), columns=['struct'])])\n",
    "\n",
    "#convert ['-' 'H' 'E'] into numerical values\n",
    "struct_df['struct'] = struct_df['struct'].astype('category')\n",
    "legend = dict(enumerate(struct_df['struct'].cat.categories))\n",
    "print(legend)\n",
    "struct_df['struct'] = struct_df['struct'].cat.codes\n",
    "struct_df"
   ]
  },
  {
   "cell_type": "markdown",
   "metadata": {},
   "source": [
    "## Validate the number of rows match in both dataframes"
   ]
  },
  {
   "cell_type": "code",
   "execution_count": 10,
   "metadata": {},
   "outputs": [
    {
     "data": {
      "text/plain": [
       "True"
      ]
     },
     "execution_count": 10,
     "metadata": {},
     "output_type": "execute_result"
    }
   ],
   "source": [
    "len(seq_df.index) == len(struct_df.index)"
   ]
  },
  {
   "cell_type": "markdown",
   "metadata": {},
   "source": [
    "# Step 4: Model Building"
   ]
  },
  {
   "cell_type": "markdown",
   "metadata": {},
   "source": [
    "## Train-Test Split"
   ]
  },
  {
   "cell_type": "code",
   "execution_count": 11,
   "metadata": {},
   "outputs": [
    {
     "name": "stdout",
     "output_type": "stream",
     "text": [
      "x_train (4818, 20) \n",
      "y_train (4818, 1) \n",
      "x_test (2065, 20) \n",
      "y_test (2065, 1)\n"
     ]
    }
   ],
   "source": [
    "#70-30 Train-Test Split\n",
    "x_train, x_test, y_train, y_test = train_test_split(seq_df, struct_df, test_size=0.3, random_state=1)\n",
    "print('x_train', x_train.shape, '\\ny_train', y_train.shape, '\\nx_test', x_test.shape, '\\ny_test', y_test.shape)"
   ]
  },
  {
   "cell_type": "markdown",
   "metadata": {},
   "source": [
    "## Build Neural Network"
   ]
  },
  {
   "cell_type": "code",
   "execution_count": 12,
   "metadata": {},
   "outputs": [
    {
     "data": {
      "text/plain": [
       "MLPClassifier(activation='logistic', alpha=0.001, batch_size='auto', beta_1=0.9,\n",
       "              beta_2=0.999, early_stopping=False, epsilon=1e-08,\n",
       "              hidden_layer_sizes=(500, 100), learning_rate='constant',\n",
       "              learning_rate_init=0.001, max_iter=1000, momentum=0.9,\n",
       "              n_iter_no_change=50, nesterovs_momentum=True, power_t=0.5,\n",
       "              random_state=None, shuffle=True, solver='adam', tol=0.0001,\n",
       "              validation_fraction=0.1, verbose=False, warm_start=False)"
      ]
     },
     "execution_count": 12,
     "metadata": {},
     "output_type": "execute_result"
    }
   ],
   "source": [
    "#model = MLPClassifier() #Default Model\n",
    "\n",
    "#Tuned Model (Logistic)\n",
    "model = MLPClassifier(activation='logistic', hidden_layer_sizes=(500,100), max_iter=1000,alpha=0.001, n_iter_no_change=50) \n",
    "\n",
    "#hyperbolic tan function improved accuracy by .40% \n",
    "#model = MLPClassifier(activation='tanh', hidden_layer_sizes=(500,100), max_iter=1000,alpha=0.001, n_iter_no_change=50) \n",
    "model.fit(x_train, y_train.values.ravel())"
   ]
  },
  {
   "cell_type": "markdown",
   "metadata": {},
   "source": [
    "# Step 5: Model Evaluation"
   ]
  },
  {
   "cell_type": "markdown",
   "metadata": {},
   "source": [
    "## Accuracy"
   ]
  },
  {
   "cell_type": "code",
   "execution_count": 13,
   "metadata": {},
   "outputs": [
    {
     "name": "stdout",
     "output_type": "stream",
     "text": [
      "Accuracy for test set: 51.62%\n",
      "Accuracy for training data: 52.93%\n"
     ]
    }
   ],
   "source": [
    "preds = model.predict(x_test)\n",
    "print('Accuracy for test set: {:.2f}%'.format(accuracy_score(y_test, preds)*100))\n",
    "print('Accuracy for training data: {:.2f}%'.format(accuracy_score(y_train, model.predict(x_train))*100))"
   ]
  },
  {
   "cell_type": "markdown",
   "metadata": {},
   "source": [
    "## Confusion Matrices\n",
    "Followed: https://stackoverflow.com/questions/35572000/how-can-i-plot-a-confusion-matrix as a guide to making it pretty"
   ]
  },
  {
   "cell_type": "code",
   "execution_count": 14,
   "metadata": {},
   "outputs": [],
   "source": [
    "#needed for using matplotlib in jupyter notebook\n",
    "%matplotlib inline\n",
    "\n",
    "def create_cm(title, cm):\n",
    "    #'-' = Coil, 'E' = Sheet, 'H' = Helix\n",
    "    df_cm = pd.DataFrame(cm, ['Coil','Sheet','Helix'],\n",
    "                      ['Coil', 'Sheet', 'Helix'])\n",
    "    sns.set(font_scale=1.4)#for label size\n",
    "    sns.heatmap(df_cm, annot=True, fmt='g', cmap=\"Blues\")\n",
    "\n",
    "    # fix for mpl bug that cuts off top/bottom of seaborn viz \n",
    "    # link: https://github.com/mwaskom/seaborn/issues/1773\n",
    "    b, t = plt.ylim() # the values for bottom and top\n",
    "    b += 0.5 # Add 0.5 to the bottom\n",
    "    t -= 0.5 # Subtract 0.5 from the top\n",
    "    plt.ylim(b, t) # update the ylim(bottom, top) values\n",
    "    plt.title(title)\n",
    "    plt.xlabel('Actual')\n",
    "    plt.ylabel('Predicted')\n",
    "\n",
    "    plt.show()"
   ]
  },
  {
   "cell_type": "markdown",
   "metadata": {},
   "source": [
    "### Confusion Matrix For Test Set"
   ]
  },
  {
   "cell_type": "code",
   "execution_count": 15,
   "metadata": {},
   "outputs": [
    {
     "data": {
      "image/png": "[encoded data removed]",
      "text/plain": [
       "<Figure size 432x288 with 2 Axes>"
      ]
     },
     "metadata": {},
     "output_type": "display_data"
    }
   ],
   "source": [
    "array_test = confusion_matrix(y_test, preds)\n",
    "create_cm(\"Confusion Matrix for Test Set\", array_test)"
   ]
  },
  {
   "cell_type": "markdown",
   "metadata": {},
   "source": [
    "### Confusion Matrix For Training Set"
   ]
  },
  {
   "cell_type": "code",
   "execution_count": 16,
   "metadata": {
    "scrolled": true
   },
   "outputs": [
    {
     "data": {
      "image/png": "[encoded data removed]",
      "text/plain": [
       "<Figure size 432x288 with 2 Axes>"
      ]
     },
     "metadata": {},
     "output_type": "display_data"
    }
   ],
   "source": [
    "array_train= confusion_matrix(y_train, model.predict(x_train))\n",
    "create_cm(\"Confusion Matrix for Training Set\", array_train)"
   ]
  },
  {
   "cell_type": "markdown",
   "metadata": {},
   "source": [
    "## Precision and Recall\n",
    "\n",
    "<b>From Wikipedia:</b> \"Suppose a computer program for recognizing dogs in photographs identifies<br>\n",
    "8 dogs in a picture containing 12 dogs and some cats. Of the 8 identified as dogs, 5 actually<br>\n",
    "are dogs (true positives), while the rest are cats (false positives). The program's precision<br>\n",
    "is 5/8 while its recall is 5/12. When a search engine returns 30 pages only 20 of which were<br>\n",
    "relevant while failing to return 40 additional relevant pages, its precision is 20/30 = 2/3 while<br>\n",
    "its recall is 20/60 = 1/3. So, in this case, precision is \"how useful the search results are\", and<br>\n",
    "recall is \"how complete the results are\".\"<br>\n",
    "<br>\n",
    "Precison: # of correctly identified / # of all identified <br>\n",
    "Recall: # of correctly identified / # of all actual"
   ]
  },
  {
   "cell_type": "code",
   "execution_count": 17,
   "metadata": {},
   "outputs": [],
   "source": [
    "# we use the confusion matrix (cm_array) to make these calculations\n",
    "def calculate_precision(cm_array, position, name):\n",
    "    precision = cm_array[position][position] / np.sum(cm_array[position])\n",
    "    print(\"Precision for {}: {:.2f}%\".format(name, precision*100))\n",
    "\n",
    "def calculate_recall(cm_array, position, name):\n",
    "    total = 0\n",
    "    for i in range(0, len(cm_array)):\n",
    "        total += cm_array[i][position]\n",
    "    recall = cm_array[position][position] / total\n",
    "    print(\"Recall for {}: {:.2f}%\".format(name, recall*100))"
   ]
  },
  {
   "cell_type": "markdown",
   "metadata": {},
   "source": [
    "### Test Set Precision and Recall"
   ]
  },
  {
   "cell_type": "code",
   "execution_count": 18,
   "metadata": {},
   "outputs": [
    {
     "name": "stdout",
     "output_type": "stream",
     "text": [
      "Precision for coil: 67.70%\n",
      "Recall for coil: 58.18%\n",
      "\n",
      "Precision for sheet: 24.31%\n",
      "Recall for sheet: 49.57%\n",
      "\n",
      "Precision for helix: 48.26%\n",
      "Recall for helix: 42.70%\n"
     ]
    }
   ],
   "source": [
    "calculate_precision(array_test, 0, \"coil\")\n",
    "calculate_recall(array_test, 0, \"coil\")\n",
    "print()\n",
    "calculate_precision(array_test, 1, \"sheet\")\n",
    "calculate_recall(array_test, 1, \"sheet\")\n",
    "print()\n",
    "calculate_precision(array_test, 2, \"helix\")\n",
    "calculate_recall(array_test, 2, \"helix\")"
   ]
  },
  {
   "cell_type": "markdown",
   "metadata": {},
   "source": [
    "### Training Set Precision and Recall"
   ]
  },
  {
   "cell_type": "code",
   "execution_count": 19,
   "metadata": {},
   "outputs": [
    {
     "name": "stdout",
     "output_type": "stream",
     "text": [
      "Precision for coil: 67.90%\n",
      "Recall for coil: 59.16%\n",
      "\n",
      "Precision for sheet: 26.42%\n",
      "Recall for sheet: 52.17%\n",
      "\n",
      "Precision for helix: 50.20%\n",
      "Recall for helix: 44.00%\n"
     ]
    }
   ],
   "source": [
    "calculate_precision(array_train, 0, \"coil\")\n",
    "calculate_recall(array_train, 0, \"coil\")\n",
    "print()\n",
    "calculate_precision(array_train, 1, \"sheet\")\n",
    "calculate_recall(array_train, 1, \"sheet\")\n",
    "print()\n",
    "calculate_precision(array_train, 2, \"helix\")\n",
    "calculate_recall(array_train, 2, \"helix\")"
   ]
  },
  {
   "cell_type": "markdown",
   "metadata": {},
   "source": [
    "## Step 6: Predict"
   ]
  },
  {
   "cell_type": "markdown",
   "metadata": {},
   "source": [
    "### Read in the file containing the amino acid sequences to predict their secondary structure"
   ]
  },
  {
   "cell_type": "code",
   "execution_count": 116,
   "metadata": {},
   "outputs": [],
   "source": [
    "file_predict=open(\"sample_predict_seq.txt\", \"r\")"
   ]
  },
  {
   "cell_type": "markdown",
   "metadata": {},
   "source": [
    "Note: \n",
    "    Make sure to have at least one newline character (\"\\n\") at the end of the text file <br>\n",
    "    (i.e. press enter after the last sequence)"
   ]
  },
  {
   "cell_type": "code",
   "execution_count": 117,
   "metadata": {},
   "outputs": [],
   "source": [
    "def parse_aa_seqs(file, predict_seqs):\n",
    "    lines = file.readlines()\n",
    "    file.close()\n",
    "    new_seq = False\n",
    "    full_seq = \"\"\n",
    "    \n",
    "    #Parse the text\n",
    "    for line in lines:\n",
    "        #new protein sequence\n",
    "        if \">\" in line:\n",
    "            #print(line) #for debugging\n",
    "            new_seq = True\n",
    "            full_seq = \"\"\n",
    "        \n",
    "        #end of amino acid sequence\n",
    "        elif new_seq and line == \"\\n\":\n",
    "            #print(\"{}\\n\".format(full_seq)) #for debugging\n",
    "            predict_seqs.append(full_seq)\n",
    "            new_seq = False\n",
    "            \n",
    "        elif new_seq:\n",
    "            line = line.strip()\n",
    "            full_seq += line\n",
    "            "
   ]
  },
  {
   "cell_type": "code",
   "execution_count": 118,
   "metadata": {},
   "outputs": [],
   "source": [
    "predict_seqs = []\n",
    "parse_aa_seqs(file_predict, predict_seqs)"
   ]
  },
  {
   "cell_type": "markdown",
   "metadata": {},
   "source": [
    "### Encode the sequences (One-hot Encoding)"
   ]
  },
  {
   "cell_type": "code",
   "execution_count": 141,
   "metadata": {},
   "outputs": [
    {
     "data": {
      "text/plain": [
       "[     A  C  D  E  F  G  H  I  K  L  M  N  P  Q  R  S  T  V  W  Y\n",
       " 0    0  0  0  0  0  0  0  0  0  0  0  0  0  0  0  1  0  0  0  0\n",
       " 1    0  0  0  0  0  0  0  0  0  0  0  0  0  0  0  0  1  0  0  0\n",
       " 2    0  0  0  0  0  0  0  0  0  1  0  0  0  0  0  0  0  0  0  0\n",
       " 3    0  0  0  0  0  0  0  0  0  0  0  0  1  0  0  0  0  0  0  0\n",
       " 4    0  0  0  0  0  0  0  0  0  0  0  0  0  0  1  0  0  0  0  0\n",
       " ..  .. .. .. .. .. .. .. .. .. .. .. .. .. .. .. .. .. .. .. ..\n",
       " 722  1  0  0  0  0  0  0  0  0  0  0  0  0  0  0  0  0  0  0  0\n",
       " 723  0  0  0  0  0  0  0  0  0  0  0  0  0  0  0  1  0  0  0  0\n",
       " 724  0  0  0  0  0  0  0  0  0  1  0  0  0  0  0  0  0  0  0  0\n",
       " 725  0  0  1  0  0  0  0  0  0  0  0  0  0  0  0  0  0  0  0  0\n",
       " 726  1  0  0  0  0  0  0  0  0  0  0  0  0  0  0  0  0  0  0  0\n",
       " \n",
       " [727 rows x 20 columns],\n",
       "      A  C  D  E  F  G  H  I  K  L  M  N  P  Q  R  S  T  V  W  Y\n",
       " 0    0  0  0  0  0  0  0  0  0  0  0  0  0  0  0  1  0  0  0  0\n",
       " 1    0  0  0  0  0  0  0  0  0  0  0  0  0  0  0  1  0  0  0  0\n",
       " 2    0  0  0  0  0  0  0  0  0  0  0  0  0  0  0  0  1  0  0  0\n",
       " 3    0  0  1  0  0  0  0  0  0  0  0  0  0  0  0  0  0  0  0  0\n",
       " 4    0  0  0  0  0  0  0  0  0  0  0  0  0  1  0  0  0  0  0  0\n",
       " ..  .. .. .. .. .. .. .. .. .. .. .. .. .. .. .. .. .. .. .. ..\n",
       " 632  0  0  0  0  0  0  0  0  0  1  0  0  0  0  0  0  0  0  0  0\n",
       " 633  0  0  0  0  0  1  0  0  0  0  0  0  0  0  0  0  0  0  0  0\n",
       " 634  0  0  0  0  0  0  0  0  0  0  0  0  0  0  0  0  0  1  0  0\n",
       " 635  1  0  0  0  0  0  0  0  0  0  0  0  0  0  0  0  0  0  0  0\n",
       " 636  0  0  0  0  0  0  0  0  1  0  0  0  0  0  0  0  0  0  0  0\n",
       " \n",
       " [637 rows x 20 columns]]"
      ]
     },
     "execution_count": 141,
     "metadata": {},
     "output_type": "execute_result"
    }
   ],
   "source": [
    "encoded_predict_seqs = []\n",
    "for seq in predict_seqs:\n",
    "    encoded_predict_seqs.append(one_hot_encode(seq))\n",
    "encoded_predict_seqs"
   ]
  },
  {
   "cell_type": "markdown",
   "metadata": {},
   "source": [
    "### Predict"
   ]
  },
  {
   "cell_type": "code",
   "execution_count": 142,
   "metadata": {},
   "outputs": [],
   "source": [
    "predictions = []\n",
    "for seq in encoded_predict_seqs:\n",
    "    predictions.append(model.predict(seq))"
   ]
  },
  {
   "cell_type": "markdown",
   "metadata": {},
   "source": [
    "### Change numbers back to symbols\n",
    "Change the results from numerical to symbols for the secondary structures ('-' = coil, 'H' = helix, 'E' = Sheet)"
   ]
  },
  {
   "cell_type": "code",
   "execution_count": 143,
   "metadata": {},
   "outputs": [],
   "source": [
    "def convert_num_to_struct(seq, legend):\n",
    "    symbols = \"\"\n",
    "    for item in seq:\n",
    "        if item == 0:\n",
    "            symbols += legend[0]\n",
    "        elif item == 1:\n",
    "            symbols += legend[1]\n",
    "        elif item == 2:\n",
    "            symbols += legend[2]\n",
    "    return symbols"
   ]
  },
  {
   "cell_type": "code",
   "execution_count": 144,
   "metadata": {},
   "outputs": [],
   "source": [
    "pred_structs = []\n",
    "for seq in predictions:\n",
    "    pred_structs.append(convert_num_to_struct(seq, legend))"
   ]
  },
  {
   "cell_type": "markdown",
   "metadata": {},
   "source": [
    "## Print the Results"
   ]
  },
  {
   "cell_type": "code",
   "execution_count": 150,
   "metadata": {},
   "outputs": [
    {
     "name": "stdout",
     "output_type": "stream",
     "text": [
      "Amino Acid Sequence 1: \n",
      "STLPRFDSVDLGNAPVPADAARRFEELAAKAGTGEAWETAEQIPVGTLFNEDVYKDMDWLDTYAGIPPFVHGPYATMYAFRPWTIRQYAGFSTAKESNAFYRRNLAAGQKGLSVAFDLPTHRGYDSDNPRVAGDVGMAGVAIDSIYDMRELFAGIPLDQMSVSMTMNGAVLPILALYVVTAEEQGVKPEQLAGTIQNDILKEFMVRNTYIYPPQPSMRIISEIFAYTSANMPKWNSISISGYHMQEAGATADIEMAYTLADGVDYIRAGESVGLNVDQFAPRLSFFWGIGMNFFMEVAKLRAARMLWAKLVHQFGPKNPKSMSLRTHSQTSGWSLTAQDVYNNVVRTCIEAMAATQGHTQSLHTNSLDEAIALPTDFSARIARNTQLFLQQESGTTRVIDPWSGSAYVEELTWDLARKAWKVDNSTVLAEQKAKLVKLRAERDPEKVKAALDKITWAAGNPDDKDPDRNLLKLCIDAGRAMATVGEMSDALEKVFGRYTAQIRTISGVYSKEVKNTPEVEEARELVEEFEQAEGRRPRILLAKMGQDGHDRGQKVIATAYADLGFDVDVGPLFQTPEETARQAVEADVHVVGVSSLAGGHLTLVPALRKELDKLGRPDILITVGGVIPEQDFDELRKDGAVEIYTPGTVIPESAISLVKKLTLVPALRKELDKLGRPDILITVGGVIPEQDFDELRKDGAVEIYTPGTVIPESAISLVKKLRASLDA\n",
      "\n",
      "Predicted Secondary Structure: \n",
      "--H-----E-H--H-E-H-HH---HHHHHHH---HH-H-HH-E-E--H--H-EHH-H--H--HH-E---E---HH-HHH-----E--HH----HHH--H-H---HHH--H-H-EH--H-----H------EH--E-HH-EHE--EH-H-HH-H-E-H--H-E-H-H--HEH-EHHHHEE-HHH--EH-H-HH--E---EHHH-HE---HEH-----H-EE-HE-HH--H-H-H---E-E--H-H-HH-H-H-EHHHH-HH--E-HE-H-H-E-H-E---H--H-----E-H---HHEHHH-HH-HH-HHHE-----H--H-H-H----------H-H--EH--EE---EHHHHH-------H----H-HHEHH-----H-EH----H-H--H-----EE------HHEHHH---HH-HH-HE----EHHH-HHHHEHH-HH---HHEHHHH-HE--HH-----H-----HHHH-E-H--HHH-E-HH--HHHHE---H-H-E--E--EH-HHEH---HEHHH-HHEHH-H-HH-----EHHHHH---------HEEH-HHH-H---E-E--H----HH-H--HEHH-E-EE-E--HH---H-HE-HH-HHH-HH----EHE-E--EE-H----HH-H--HEHEH----EE-H-HE-HEHHH-HE-HH-HHH-HH----EHE-E--EE-H----HH-H--HEHEH----EE-H-HE-HEHHH-H-H-H\n",
      "\n",
      "Amino Acid Sequence 2: \n",
      "SSTDQGTNPADTDDLTPTTLSLAGDFPKATEEQWEREVEKVLNRGRPPEKQLTFAECLKRLTVHTVDGIDIVPMYRPKDAPKKLGYPGVAPFTRGTTVRNGDMDAWDVRALHEDPDEKFTRKAILEGLERGVTSLLLRVDPDAIAPEHLDEVLSDVLLEMTKVEVFSRYDQGAAAEALVSVYERSDKPAKDLALNLGLDPIGFAALQGTEPDLTVLGDWVRRLAKFSPDSRAVTIDANIYHNAGAGDVAELAWALATGAEYVRALVEQGFTATEAFDTINFRVTATHDQFLTIARLRALREAWARIGEVFGVDEDKRGARQNAITSWRELTREDPYVNILRGSIATFSASVGGAESITTLPFTQALGLPEDDFPLRIARNTGIVLAEEVNIGRVNDPAGGSYYVESLTRSLADAAWKEFQEVEKLGGMSKAVMTEHVTKVLDACNAERAKRLANRKQPITAVSEFPMIGARSIETKPFPAAPARKGLAWHRDSEVFEQLMDRSTSVSERPKVFLACLGTRRDFGGREGFSSPVWHIAGIDTPQVEGGTTAEIVEAFKKSGAQVADLCSSAKVYAQQGLEVAKALKAAGAKALYLSGAFKEFGDDAAEAEKLIDGRLFMGMDVVDTLSSTLDILGVAK\n",
      "\n",
      "Predicted Secondary Structure: \n",
      "---------H----H----H-HH----HH-HH--H-HEHHEH------HH-H--HH-HH-H-E--E--E-EE-HH--H-H-HHH-H--EH-------E----H-H--E-HH-H---HH---HHEHH-HH--E--HHH-E---HEH-H-H-HEH--EHHHH-HEHE---H---HHHHHHE-EHH---H-HH-HHH-H-H--E--HHH---H--H-EH---E--HHH------HE-E-H-EH--H-H--EHHHH-HHH--HHHE-HHEH----H-HH---E---E-H-----H-EH-H-HH-HH-H-E-HE--E-H-H--H---HE----HH--H--HE-EH---EH---H-E--HH-E--H----HH-H-H----H-EH----EEHHHHE-E--E---H---HHEH-H---HH-HH-HH--HEHHH--H-HHEH-H-E-HEH-H--HH-HH-HH--H--E-HE-H--HE-H--EH-H---HH-H-H-HH-----HE-H-HH-----E-H--HE-HH-H---------H-----E--EH-E----EH----HHEEHH-HH--H-EH-H---HHEHH---HHEHHHHHHH-HHHHHH--H-HH----HHHHHHHE---H-H-H-EE--H---H-EH-EHH\n",
      "\n"
     ]
    }
   ],
   "source": [
    "for i in range(0, len(pred_structs)):\n",
    "    print(\"Amino Acid Sequence {}: \".format(i + 1))\n",
    "    print(predict_seqs[i])\n",
    "    print()\n",
    "    print(\"Predicted Secondary Structure: \")\n",
    "    print(pred_structs[i])\n",
    "    print()"
   ]
  },
  {
   "cell_type": "markdown",
   "metadata": {},
   "source": [
    "# Summary of Findings"
   ]
  },
  {
   "cell_type": "markdown",
   "metadata": {},
   "source": [
    "Accuracy, precision, and recall improved when the neural network made no predictions on sheet structure. <br>\n",
    "Of the amino acid sequences given, a coil structure is the most common. <br>"
   ]
  },
  {
   "cell_type": "markdown",
   "metadata": {},
   "source": [
    "### Default Model Summary - Best Run\n",
    "<b> Model Parameters</b> <br>\n",
    "MLPClassifier(activation='relu', alpha=0.0001, batch_size='auto', beta_1=0.9,<br>\n",
    "              beta_2=0.999, early_stopping=False, epsilon=1e-08,<br>\n",
    "              hidden_layer_sizes=(100,), learning_rate='constant',<br>\n",
    "              learning_rate_init=0.001, max_iter=200, momentum=0.9,<br>\n",
    "              n_iter_no_change=10, nesterovs_momentum=True, power_t=0.5,<br>\n",
    "              random_state=None, shuffle=True, solver='adam', tol=0.0001,<br>\n",
    "              validation_fraction=0.1, verbose=False, warm_start=False) <br>\n",
    "        \n",
    "<b> Results</b> <br> \n",
    "    Accuracy: 51.33% <br>\n",
    "    Precision for coil, sheet, helix (respectively): 72.51%, 31.98%, 35.10% <br>\n",
    "    Recall for coil, shee, helix (respectively): 55.80%, 49.02%, 42.65%"
   ]
  },
  {
   "cell_type": "markdown",
   "metadata": {},
   "source": [
    "### Tuned Model Summary (Logistic) - Best Run\n",
    "<b> Model Parameters</b> <br>\n",
    "MLPClassifier(activation='logistic', alpha=0.001, batch_size='auto', beta_1=0.9,<br>\n",
    "              beta_2=0.999, early_stopping=False, epsilon=1e-08,<br>\n",
    "              hidden_layer_sizes=(500, 100), learning_rate='constant',<br>\n",
    "              learning_rate_init=0.001, max_iter=1000, momentum=0.9,<br>\n",
    "              n_iter_no_change=50, nesterovs_momentum=True, power_t=0.5,<br>\n",
    "              random_state=None, shuffle=True, solver='adam', tol=0.0001,<br>\n",
    "              validation_fraction=0.1, verbose=False, warm_start=False)<br>\n",
    "        \n",
    "<b> Results</b> <br> \n",
    "    Accuracy: 52.30% <br>\n",
    "    Precision for coil, sheet, helix (respectively): 59.57%, 40.51%, 50.38% <br>\n",
    "    Recall for coil, shee, helix (respectively): 63.15%, 46.00%, 43.25%"
   ]
  },
  {
   "cell_type": "markdown",
   "metadata": {},
   "source": [
    "## Conclusion\n",
    "\n",
    "We need more information besides the amino acid sequence to predict protein secondary structure. "
   ]
  },
  {
   "cell_type": "code",
   "execution_count": null,
   "metadata": {},
   "outputs": [],
   "source": []
  }
 ],
 "metadata": {
  "kernelspec": {
   "display_name": "Python 3",
   "language": "python",
   "name": "python3"
  },
  "language_info": {
   "codemirror_mode": {
    "name": "ipython",
    "version": 3
   },
   "file_extension": ".py",
   "mimetype": "text/x-python",
   "name": "python",
   "nbconvert_exporter": "python",
   "pygments_lexer": "ipython3",
   "version": "3.7.4"
  },
  "pycharm": {
   "stem_cell": {
    "cell_type": "raw",
    "metadata": {
     "collapsed": false
    },
    "source": []
   }
  }
 },
 "nbformat": 4,
 "nbformat_minor": 1
}
