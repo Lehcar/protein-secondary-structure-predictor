{
 "cells": [
  {
   "cell_type": "markdown",
   "metadata": {
    "collapsed": true,
    "pycharm": {
     "name": "#%% md\n"
    }
   },
   "source": [
    "# CS 123A Project\n",
    "## Building a protein secondary structure predictor\n",
    "Rachel Stanik, Phuong Tran\n"
   ]
  },
  {
   "cell_type": "markdown",
   "metadata": {
    "pycharm": {
     "name": "#%% md\n"
    }
   },
   "source": [
    "## First Read in the data"
   ]
  },
  {
   "cell_type": "code",
   "execution_count": 36,
   "metadata": {
    "pycharm": {
     "name": "#%%\n"
    }
   },
   "outputs": [],
   "source": [
    "file = open(\"dataset.txt\", \"r\")"
   ]
  },
  {
   "cell_type": "markdown",
   "metadata": {
    "pycharm": {
     "name": "#%% md\n"
    }
   },
   "source": [
    "## Parse the data\n",
    "\n",
    "Data must be in following format: <br>\n",
    "'> Protein sequence name' <br>\n",
    "'\\n' <br>\n",
    "'< amino acid sequence>' <br>\n",
    "'\\n' <br>\n",
    "'< secondary structure>' <br>\n",
    "'\\n' <br>"
   ]
  },
  {
   "cell_type": "code",
   "execution_count": 37,
   "metadata": {
    "pycharm": {
     "name": "#%%\n"
    }
   },
   "outputs": [
    {
     "name": "stdout",
     "output_type": "stream",
     "text": [
      "24\n",
      "24\n"
     ]
    }
   ],
   "source": [
    "def parse_data(file, sequences, structures):\n",
    "    lines = file.readlines()\n",
    "    new_seq = False\n",
    "    new_struct = False\n",
    "    full_seq = \"\"\n",
    "    full_struct = \"\"\n",
    "    \n",
    "    #Parse the text\n",
    "    for line in lines:\n",
    "        #new protein sequence and structure\n",
    "        if \">\" in line:\n",
    "            new_seq = True\n",
    "            new_struct = False\n",
    "            full_seq = \"\"\n",
    "            full_struct = \"\"\n",
    "            #print(line) # for debugging\n",
    "            \n",
    "        #end of the amino acid sequence\n",
    "        elif new_seq and line == \"\\n\":\n",
    "            new_seq = False\n",
    "            new_struct = True\n",
    "            sequences.append(full_seq)\n",
    "            #print(full_seq) #for debugging\n",
    "            \n",
    "        elif new_seq:\n",
    "            full_seq += line.strip()\n",
    "            \n",
    "        #end of secondary structure\n",
    "        elif new_struct and line == \"\\n\":\n",
    "            structures.append(full_struct)\n",
    "            #print(full_struct) #for debugging\n",
    "            #print() #for debugging\n",
    "            new_seq = False\n",
    "            new_struct = False\n",
    "            \n",
    "        elif new_struct:\n",
    "            full_struct += line.strip()\n",
    "    \n",
    "sequences = []\n",
    "structures = []\n",
    "parse_data(file, sequences, structures)\n",
    "print(len(sequences))\n",
    "print(len(structures))"
   ]
  },
  {
   "cell_type": "code",
   "execution_count": null,
   "metadata": {},
   "outputs": [],
   "source": []
  }
 ],
 "metadata": {
  "kernelspec": {
   "display_name": "Python 3",
   "language": "python",
   "name": "python3"
  },
  "language_info": {
   "codemirror_mode": {
    "name": "ipython",
    "version": 3
   },
   "file_extension": ".py",
   "mimetype": "text/x-python",
   "name": "python",
   "nbconvert_exporter": "python",
   "pygments_lexer": "ipython3",
   "version": "3.7.5"
  },
  "pycharm": {
   "stem_cell": {
    "cell_type": "raw",
    "metadata": {
     "collapsed": false
    },
    "source": []
   }
  }
 },
 "nbformat": 4,
 "nbformat_minor": 1
}
